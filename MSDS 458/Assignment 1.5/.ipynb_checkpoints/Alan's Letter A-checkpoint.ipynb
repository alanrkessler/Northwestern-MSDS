{
 "cells": [
  {
   "cell_type": "code",
   "execution_count": 9,
   "metadata": {},
   "outputs": [
    {
     "data": {
      "image/png": "[encoded data removed]",
      "text/plain": [
       "<Figure size 432x288 with 1 Axes>"
      ]
     },
     "metadata": {},
     "output_type": "display_data"
    }
   ],
   "source": [
    "import numpy as np\n",
    "import matplotlib.pyplot as plt\n",
    "import matplotlib.colors\n",
    "\n",
    "letter_A = np.array([[0, 0, 0, 0, 1, 0, 0, 0, 0],\n",
    "                    [0, 0, 0, 1, 0, 1, 0, 0, 0],\n",
    "                    [0, 0, 0, 1, 0, 1, 0, 0, 0],\n",
    "                    [0, 0, 1, 0, 0, 0, 1, 0, 0],\n",
    "                    [0, 0, 1, 0, 0, 0, 1, 0, 0],\n",
    "                    [0, 1, 1 ,1, 1, 1, 1, 1 ,0], \n",
    "                    [0, 1, 0 ,0, 0, 0, 0, 1, 0],\n",
    "                    [1, 0, 0, 0, 0, 0, 0, 0, 1],\n",
    "                    [1, 0, 0, 0, 0, 0, 0, 0, 1]])\n",
    "\n",
    "def display_letter(letter):\n",
    "    \"\"\"Quick display of letter (assuming square)\"\"\"\n",
    "\n",
    "    # Select white background with blue letters\n",
    "    colors = np.array([[1, 1, 1],\n",
    "                       [0, 0, 1]])\n",
    "    cmap = matplotlib.colors.ListedColormap(colors)\n",
    "\n",
    "    # Show image\n",
    "    plt.imshow(letter, cmap=cmap)\n",
    "    plt.show()\n",
    "    \n",
    "display_letter(letter_A)"
   ]
  },
  {
   "cell_type": "code",
   "execution_count": 15,
   "metadata": {},
   "outputs": [],
   "source": [
    "# Alan Kessler's Variant of the Letter A\n",
    "# Placeholder number - 97\n",
    "# Added array as second member \n",
    "# Remaining elements taken from sample code since I am not sure what they do\n",
    "trainingDataListA0 =  (1, [0, 0, 0, 0, 1, 0, 0, 0, 0, 0, 0, 0, 1, 0, 1, 0, 0, 0, 0, 0, 0, 1, 0, 1, 0, 0, 0, 0, 0, 1, 0, 0, 0, 1, 0, 0, 0, 0, 1, 0, 0, 0, 1, 0, 0, 0, 1, 1, 1, 1, 1, 1, 1, 0, 0, 1, 0, 0, 0, 0, 0, 1, 0, 1, 0, 0, 0, 0, 0, 0, 0, 1, 1, 0, 0, 0, 0, 0, 0, 0, 1], 1, 'A', 1, 'A') "
   ]
  },
  {
   "cell_type": "code",
   "execution_count": null,
   "metadata": {
    "collapsed": true
   },
   "outputs": [],
   "source": []
  }
 ],
 "metadata": {
  "kernelspec": {
   "display_name": "Python [conda env:py36]",
   "language": "python",
   "name": "conda-env-py36-py"
  },
  "language_info": {
   "codemirror_mode": {
    "name": "ipython",
    "version": 3
   },
   "file_extension": ".py",
   "mimetype": "text/x-python",
   "name": "python",
   "nbconvert_exporter": "python",
   "pygments_lexer": "ipython3",
   "version": "3.6.5"
  }
 },
 "nbformat": 4,
 "nbformat_minor": 2
}
