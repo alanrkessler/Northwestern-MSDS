{
 "cells": [
  {
   "cell_type": "markdown",
   "metadata": {},
   "source": [
    "# WAR + Luck = Actual Record \n",
    "Alan Kessler (Prepared for Predict 400 weekly discussion)\n",
    "\n",
    "I read an [article](http://www.fangraphs.com/blogs/does-projected-team-war-actually-mean-anything/) by Jeff Sullivan in FanGraphs, one of the leading online sabermetrics publications, looking at how well projected wins above replacement (WAR) predicts actual WAR. Wins above replacement is a baseball statistic aimed at measuring overall performance for a player. In this article, Sullivan is working with the statistic aggregated to a team level.\n",
    "\n",
    "Sullivan uses a least squares regression line to come to the conclusion that projected WAR is predictive of actual WAR but not all of the variance is explained. The R-squared value he calculates is 0.48, indicating a strong correlation but certainly not a one to one relationship. The author asserts that the projected values do not consider injuries or trades which would explain some of the variance.\n",
    "\n",
    "Sullivan notes that there is additional uncertainty in the relationship between actual WAR and the number of wins in the season. To a certain extent, sports have a luck component such that no statistic could predict with 100% certainty. To demonstrate this, Sullivan plots wins against actual WAR from 2002-2014 and fits a least squares line to model the relationship between the two variables. The resulting R-squared is 0.78, showing a strong relationship between the statistic and the observed outcome. \n",
    "\n",
    "Unfortunately, the first analysis in the article uses data no longer available on the FanGraphs website. However, I am able to replicate the analysis used to compare actual wins to WAR. The chart I created is included below. I get a similar result to Sullivan with a 0.7996 R-squared. Possible reasons for the difference includes the fact that teams names have changed over time and I cannot confirm that Sullivan used the same procedure to clean the data. Additionally, the calculation of WAR changes as well. We may not being using the exact same WAR data.  \n",
    "\n",
    "### References\n",
    "\n",
    "Sullivan, J. (2014, December 18). Does Projected Team WAR Actually Mean Anything? Retrieved June 22, 2017, from http://www.fangraphs.com/blogs/does-projected-team-war-actually-mean-anything/\n"
   ]
  },
  {
   "cell_type": "code",
   "execution_count": 2,
   "metadata": {},
   "outputs": [
    {
     "data": {
      "image/png": "[encoded data removed]",
      "text/plain": [
       "<Figure size 432x288 with 1 Axes>"
      ]
     },
     "metadata": {
      "needs_background": "light"
     },
     "output_type": "display_data"
    }
   ],
   "source": [
    "\"\"\"Example relating WAR to actual team wins.\"\"\"\n",
    "\n",
    "import pandas as pd\n",
    "import numpy as np\n",
    "import matplotlib.pyplot as plt\n",
    "import scipy.stats\n",
    "\n",
    "\n",
    "def load_data():\n",
    "    \"\"\"Load and merge data to return data to plot.\"\"\"\n",
    "    # Import data downloaded from FanGraphs team level leaderboards (2002-2014)\n",
    "    batting = pd.read_csv('batting.csv', header=0,\n",
    "                          index_col=['Season', 'Team'],\n",
    "                          usecols=['Season', 'Team', 'WAR'])\n",
    "\n",
    "    batting.columns = ['batter_WAR']\n",
    "\n",
    "    pitching = pd.read_csv('pitching.csv', header=0,\n",
    "                           index_col=['Season', 'Team'],\n",
    "                           usecols=['Season', 'Team', 'WAR'])\n",
    "\n",
    "    pitching.columns = ['pitcher_WAR']\n",
    "\n",
    "    # Join batting and pitching data\n",
    "    total = batting.join(pitching)\n",
    "\n",
    "    # Calculate total WAR\n",
    "    total['WAR'] = total['batter_WAR'] + total['pitcher_WAR']\n",
    "\n",
    "    # Import standings from modified Lahman Database\n",
    "    # http://www.seanlahman.com/baseball-archive/statistics/\n",
    "    standings = pd.read_csv('standings.csv', header=0, index_col=['FullName'])\n",
    "\n",
    "    # Import team name translations to join to fangraphs\n",
    "    teams = pd.read_csv('teamnames.csv', header=0, index_col=['FullName'])\n",
    "\n",
    "    # Join names together to create wins data\n",
    "    wins = standings.join(teams).reset_index().set_index(['Season', 'Team'])\n",
    "\n",
    "    # Create final data by merging wins and WAR\n",
    "    final = total.join(wins)\n",
    "\n",
    "    return final\n",
    "\n",
    "\n",
    "def plot_relationship(final):\n",
    "    \"\"\"Plot relationship between WAR and wins.\"\"\"\n",
    "    # Fit a least squares line\n",
    "    x_values = final['WAR'].values\n",
    "    y_values = final['Wins'].values\n",
    "    slope, intercept = np.polyfit(x_values, y_values, 1)\n",
    "\n",
    "    # Calculate R-squared and compare to Sullivan's article (0.78)\n",
    "    _sp, _incpt, r_value, _p_value, _std_err = scipy.stats.linregress(x_values,\n",
    "                                                                      y_values)\n",
    "\n",
    "    # Scatter plot of the various points and a least-squares fit line\n",
    "    plt.plot(x_values, y_values, 'bs', label='Team Results')\n",
    "    plt.plot(x_values, slope*x_values + intercept, 'r-')\n",
    "    plt.xlabel('WAR')\n",
    "    plt.ylabel('Wins')\n",
    "    plt.title(f\"Wins vs. WAR 2002-2014 - R-Squared = {r_value:.4f}\")\n",
    "    plt.show()\n",
    "\n",
    "\n",
    "if __name__ == '__main__':\n",
    "    plot_relationship(load_data())\n"
   ]
  },
  {
   "cell_type": "code",
   "execution_count": null,
   "metadata": {},
   "outputs": [],
   "source": []
  }
 ],
 "metadata": {
  "anaconda-cloud": {},
  "kernelspec": {
   "display_name": "Python 3",
   "language": "python",
   "name": "python3"
  },
  "language_info": {
   "codemirror_mode": {
    "name": "ipython",
    "version": 3
   },
   "file_extension": ".py",
   "mimetype": "text/x-python",
   "name": "python",
   "nbconvert_exporter": "python",
   "pygments_lexer": "ipython3",
   "version": "3.6.7"
  }
 },
 "nbformat": 4,
 "nbformat_minor": 2
}
