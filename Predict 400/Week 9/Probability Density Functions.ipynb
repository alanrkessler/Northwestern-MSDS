{
 "cells": [
  {
   "cell_type": "markdown",
   "metadata": {},
   "source": [
    "# Probability Density Functions\n",
    "\n",
    "Working with an example probability density function, calculating the mean and variance. In addition, demonstrate the Central Limit Theorem."
   ]
  },
  {
   "cell_type": "code",
   "execution_count": 1,
   "metadata": {},
   "outputs": [],
   "source": [
    "import matplotlib.pyplot as plt\n",
    "import numpy as np\n",
    "from scipy.stats.mstats import normaltest\n",
    "\n",
    "# Set my random number generator seed to reproduce results\n",
    "np.random.seed(9752)"
   ]
  },
  {
   "cell_type": "markdown",
   "metadata": {},
   "source": [
    "## Verify the Function is a Probability Density Function\n",
    "\n",
    "A function is a probability density function if over given bounds, it is non-negative and its integral is equal to one. That is, the cumulative density function is increasing over the interval and is bounded by zero and one. This function is a scalar multiplied to $x^2$, meaning the function will be strictly non-negative. As for the integral, I can verify this attribute using the code below."
   ]
  },
  {
   "cell_type": "code",
   "execution_count": 2,
   "metadata": {},
   "outputs": [
    {
     "name": "stdout",
     "output_type": "stream",
     "text": [
      "The function integrates to 1 over the interval [1,3]: True\n"
     ]
    }
   ],
   "source": [
    "def intg_f(lower=1, upper=3):\n",
    "    \"\"\"Evaluate a definite integral.\"\"\"\n",
    "    definite = (3/78)*(upper**3 - lower**3)\n",
    "    return definite\n",
    "\n",
    "\n",
    "print(f\"The function integrates to 1 over the interval [1,3]: {intg_f() == 1}\")"
   ]
  },
  {
   "cell_type": "markdown",
   "metadata": {},
   "source": [
    "## Verify the Mean\n",
    "\n",
    "The mean of the function is $\\int_{1}^{3}xf(x)dx = \\int_{1}^{3}g(x)dx = \\int_{1}^{3} \\frac{3}{26}x^3dx$. The resulting indefinite integral is $\\frac{3}{104}x^4+C$. I can verify that the definite integral over the bounds results in the mean of $\\frac{30}{13}$ using the code below."
   ]
  },
  {
   "cell_type": "code",
   "execution_count": 3,
   "metadata": {},
   "outputs": [
    {
     "name": "stdout",
     "output_type": "stream",
     "text": [
      "The mean equal to 30/13: True\n"
     ]
    }
   ],
   "source": [
    "def intg_g(lower=1, upper=3):\n",
    "    \"\"\"Evaluate a definite integral.\"\"\"\n",
    "    definite = (3/104)*(upper**4 - lower**4)\n",
    "    return definite\n",
    "\n",
    "\n",
    "# Need to round at some point for difference in format\n",
    "check = round(intg_g(), 14) == round((30/13), 14)\n",
    "print(f\"The mean equal to 30/13: {check}\")"
   ]
  },
  {
   "cell_type": "markdown",
   "metadata": {},
   "source": [
    "## Verify the Variance & Calculate the Standard Deviation\n",
    "\n",
    "The variance of a function is $E[X^2]-E[X]^2$ which can be translated to $\\int_{1}^{3}(x-E(X))xf(x)dx = \\int_{1}^{3}h(x)dx = \\int_{1}^{3} (x- \\frac{30}{13}) \\frac{3}{26}x^3dx$. The resulting indefinite integral is $\\frac{3}{130}x^5 - \\frac{90}{1352}x^4+C$. I can verify that the definite integral over the bounds, rounded to four decimal places, is equal to 0.2592 in the code below. The standard deviation is the square root of the calculated variance. I round the result after taking the square root."
   ]
  },
  {
   "cell_type": "code",
   "execution_count": 4,
   "metadata": {},
   "outputs": [
    {
     "name": "stdout",
     "output_type": "stream",
     "text": [
      "The variance approximately equal to 0.2592: True\n",
      "The standard deviation is approximately 0.5091\n"
     ]
    }
   ],
   "source": [
    "def intg_h(lower=1, upper=3):\n",
    "    \"\"\"Evaluate a definite integral.\"\"\"\n",
    "    definite = (3/130)*(upper**5 - lower**5) - (90/1352)*(upper**4-lower**4)\n",
    "    return definite\n",
    "\n",
    "\n",
    "check_1 = round(intg_h(), 4) == 0.2592\n",
    "std_dev = round(intg_h()**0.5, 4)\n",
    "print(f\"The variance approximately equal to 0.2592: {check_1}\")\n",
    "print(f\"The standard deviation is approximately {std_dev}\")"
   ]
  },
  {
   "cell_type": "markdown",
   "metadata": {},
   "source": [
    "## Plot"
   ]
  },
  {
   "cell_type": "code",
   "execution_count": 5,
   "metadata": {},
   "outputs": [
    {
     "data": {
      "image/png": "[encoded data removed]",
      "text/plain": [
       "<Figure size 432x288 with 1 Axes>"
      ]
     },
     "metadata": {
      "needs_background": "light"
     },
     "output_type": "display_data"
    }
   ],
   "source": [
    "def f(x):\n",
    "    f = (3/26)*x**2\n",
    "    return f\n",
    "\n",
    "\n",
    "def g(x):\n",
    "    g = (3/26)*x**3\n",
    "    return g\n",
    "\n",
    "\n",
    "def h(x):\n",
    "    h = (x-30/13)*(3/26)*x**3\n",
    "    return h\n",
    "\n",
    "\n",
    "x = np.ndarray.tolist(np.arange(0, 3, 0.01))\n",
    "y = [f(i) for i in x]\n",
    "a = [g(i) for i in x]\n",
    "b = [h(i) for i in x]\n",
    "\n",
    "# Plot based on directions in the discussion topic\n",
    "plt.xlim(0, 3)\n",
    "plt.ylim(-0.2, 1.5)\n",
    "plt.axhline(0, color='black')\n",
    "plt.plot(x, y, c='k', label='f(x)')\n",
    "plt.plot(x, a, c='b', label='g(x)')\n",
    "plt.plot(x, b, c='r', label='h(x)')\n",
    "plt.plot(intg_g(), 0, marker='o', markersize=5, color=\"blue\", mec=\"blue\",\n",
    "         label='mean')\n",
    "plt.plot(intg_h()**0.5, 0, marker='o', markersize=5, color=\"red\", mec=\"red\",\n",
    "         label='std dev')\n",
    "plt.xlabel('x')\n",
    "plt.ylabel('Function Output')\n",
    "plt.title('Probability Density Function')\n",
    "plt.legend(loc=2)\n",
    "plt.show()"
   ]
  },
  {
   "cell_type": "markdown",
   "metadata": {},
   "source": [
    "## Central Limit Theorem\n",
    "\n",
    "At this point, we can introduce the role the normal distribution plays in the Central Limit Theorem. According to that theorem, sample means from the original probability density function will be normally distributed. I can test this by simulating 1,000 sample means of 100 simulations from the distribution. Then I plot the distribution of the means. It appears to look normal, confirming the Central Limit Theorem, but it is worth testing to be sure."
   ]
  },
  {
   "cell_type": "code",
   "execution_count": 6,
   "metadata": {},
   "outputs": [
    {
     "data": {
      "image/png": "[encoded data removed]",
      "text/plain": [
       "<Figure size 432x288 with 1 Axes>"
      ]
     },
     "metadata": {
      "needs_background": "light"
     },
     "output_type": "display_data"
    }
   ],
   "source": [
    "# Inverse CDF\n",
    "def icdf(y):\n",
    "    \"\"\"Inverse CDF of a function.\"\"\"\n",
    "    x = (26*y + 1)**(1/3)\n",
    "    return x\n",
    "\n",
    "\n",
    "# Calcuate simulations of sample means\n",
    "sample_means = []\n",
    "for i in range(1000):\n",
    "    sims = [icdf(j) for j in np.random.uniform(size=100)]\n",
    "    sample_means.append(np.mean(sims))\n",
    "\n",
    "# Plot histogram of sample means\n",
    "plt.hist(sample_means, bins=30, color='g')\n",
    "plt.ylabel(\"Probability\")\n",
    "plt.xlabel(\"x\")\n",
    "plt.show()"
   ]
  },
  {
   "cell_type": "markdown",
   "metadata": {},
   "source": [
    "I use D’Agostino and Pearson’s test in [SciPy](https://docs.scipy.org/doc/scipy/reference/generated/scipy.stats.normaltest.html) to verify that the sample means are normally distributed. "
   ]
  },
  {
   "cell_type": "code",
   "execution_count": 7,
   "metadata": {},
   "outputs": [
    {
     "name": "stdout",
     "output_type": "stream",
     "text": [
      "Based on the p-value of 0.9579, I cannot reject thenull hypothesis that the data is normally distributed.\n"
     ]
    }
   ],
   "source": [
    "# Validate the CLT that sample means are normally distributed\n",
    "p_value = normaltest(sample_means)[1]\n",
    "result_text = (f\"Based on the p-value of {p_value:.4f}, I cannot reject the\"\n",
    "               \"null hypothesis that the data is normally distributed.\")\n",
    "print(result_text)"
   ]
  },
  {
   "cell_type": "code",
   "execution_count": null,
   "metadata": {},
   "outputs": [],
   "source": []
  }
 ],
 "metadata": {
  "anaconda-cloud": {},
  "kernelspec": {
   "display_name": "Python 3",
   "language": "python",
   "name": "python3"
  },
  "language_info": {
   "codemirror_mode": {
    "name": "ipython",
    "version": 3
   },
   "file_extension": ".py",
   "mimetype": "text/x-python",
   "name": "python",
   "nbconvert_exporter": "python",
   "pygments_lexer": "ipython3",
   "version": "3.6.7"
  }
 },
 "nbformat": 4,
 "nbformat_minor": 2
}
