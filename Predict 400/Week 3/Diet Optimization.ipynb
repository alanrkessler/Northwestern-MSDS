{
 "cells": [
  {
   "cell_type": "markdown",
   "metadata": {},
   "source": [
    "# Diet Optimization \n",
    "##### Alan Kessler, 7/3/17\n",
    "\n",
    "\"If It Fits Your Macros\" is a nutrition concept that essentially says, \"eat whatever you want...if it fits your macros\". Macros are short for three macronutrients: protein, fat, and carbohydrates. The thought is that you can diet more simply by planning around just these three macros, and that the goal of the diet is more important than how you get there. Being a \"numbers person\", I have spent considerably more time trying to figure out how meet the macro thresholds than actually trying the diet. \n",
    "\n",
    "The issue I have had is has to do with how the formula works. It starts with looking at your daily Total Daily Energy Expenditure (TDEE). To put it simply, this is the total number of calories you burn during the day. From there, you get set a goal: either gaining or losing weight at a rate of your choice. The goal dictates your macros. The \"algorithm\" if you can call it that, assumes a number of calories per gram for each macronutrient. These constants are thought to be averages for nutritionally dense foods. I want to put these averages to the test.    \n",
    "\n",
    "My diet failures make for a great optimization problem. The goal is to meet my macro targets with the minimum number of calories. My suspicion is that it will take considerably more calories than my goal to meet my macros. \n",
    "\n",
    "## Calorie Requirement & Macros\n",
    "\n",
    "I used the \"If It Fits Your Macros\" website to make the calculations. Note that this website has quite a few ads and requires an email address to get results.\n",
    "\n",
    "The website provided me results of:\n",
    "\n",
    "- **Calories:** 2,088 per day\n",
    "- **Protein:** 167 grams per day\n",
    "- **Fat:** 77 grams per day\n",
    "- **Carbohydrates:** 183 grams per day\n",
    "\n",
    "IIFYM Macro Calculator. (n.d.). Retrieved July 03, 2017, from https://www.iifym.com/iifym-calculator/\n",
    "\n",
    "## Food\n",
    "\n",
    "The three foods I have selected are:\n",
    "\n",
    "#### [Brown Rice](https://www.google.com/#q=brown+rice+nutrition) $X_1$:\n",
    "- Serving size: 1 cup, cooked\n",
    "- Calories: 216\n",
    "- Protein: 5g\n",
    "- Fat: 1.8g\n",
    "- Carbohydrates: 45g\n",
    "\n",
    "#### [Avocados](https://www.google.com/#q=avocado+nutrition) $X_2$:\n",
    "- Serving size: 1 cup sliced\n",
    "- Calories: 234\n",
    "- Protein: 2.9g\n",
    "- Fat: 21g\n",
    "- Carbohydrates: 12g  \n",
    "\n",
    "#### [Chicken Breast](https://www.google.com/#q=chicken+breast+nutrition) $X_3$:\n",
    "- Serving size: 1 cup chopped\n",
    "- Calories: 231\n",
    "- Protein: 43g\n",
    "- Fat: 5g\n",
    "- Carbohydrates: 0g\n",
    "\n",
    "The nutrition information is included with each food from quick Google searches.\n",
    "\n",
    "## Goals - Simplified\n",
    "\n",
    "Minimize daily calories consumed subject to:\n",
    "\n",
    "1. Consume at least 167 grams of protein\n",
    "2. Consume at least 77 grams of fat\n",
    "3. Consume at least 183 grams of carbohydrates\n",
    "4. Consume a non-negative amount of each food\n",
    "\n",
    "## Goals - Represented Mathematically\n",
    "\n",
    "Minimize: $Calories = 216X_1 + 234X_2 + 231X_3$\n",
    "\n",
    "Subject to:\n",
    "\n",
    "1. $5.0X_1 + 2.9X_2 + 43.0X_3 \\geq 167$\n",
    "2. $1.8X_1 + 21.0X_2 + 5.0X_3 \\geq 77$\n",
    "3. $45.0X_1 + 12.0X_2 + 0X_3 \\geq 183$\n",
    "4. $X_1 \\geq 0, X_2 \\geq 0, X_3 \\geq 0$"
   ]
  },
  {
   "cell_type": "markdown",
   "metadata": {},
   "source": [
    "## Simplex Method"
   ]
  },
  {
   "cell_type": "code",
   "execution_count": 1,
   "metadata": {},
   "outputs": [
    {
     "name": "stdout",
     "output_type": "stream",
     "text": [
      "[[   5.     1.8   45.     1.     0.     0.     0.   216. ]\n",
      " [   2.9   21.    12.     0.     1.     0.     0.   234. ]\n",
      " [  43.     5.     0.     0.     0.     1.     0.   231. ]\n",
      " [-167.   -77.  -183.     0.     0.     0.     1.     0. ]]\n"
     ]
    }
   ],
   "source": [
    "\"\"\"Demonstrate Simplex Method for Optimization.\"\"\"\n",
    "\n",
    "import numpy as np\n",
    "from scipy.optimize import linprog\n",
    "np.set_printoptions(suppress=True, precision=4, linewidth=125)\n",
    "\n",
    "# Original matrix\n",
    "original = np.matrix(([5, 2.9, 43, 167], [1.8, 21, 5, 77],\n",
    "                      [45, 12, 0, 183], [216, 234, 231, 0]))\n",
    "\n",
    "# Transpose for dual\n",
    "dual = np.transpose(original)\n",
    "# Switch signs for minimize vector\n",
    "dual[3] = dual[3]*-1\n",
    "\n",
    "# Insert the slack variables\n",
    "rs = np.matrix(([1, 0, 0, 0], [0, 1, 0, 0], [0, 0, 1, 0], [0, 0, 0, 1]))\n",
    "step0 = np.concatenate((dual[:, :3], rs, dual[:, 3]), axis=1)\n",
    "print(step0)"
   ]
  },
  {
   "cell_type": "code",
   "execution_count": 2,
   "metadata": {},
   "outputs": [
    {
     "name": "stdout",
     "output_type": "stream",
     "text": [
      "[[   0.1111    0.04      1.        0.0222    0.        0.        0.        4.8   ]\n",
      " [   1.5667   20.52      0.       -0.2667    1.        0.        0.      176.4   ]\n",
      " [  43.        5.        0.        0.        0.        1.        0.      231.    ]\n",
      " [-146.6667  -69.68      0.        4.0667    0.        0.        1.      878.4   ]]\n"
     ]
    }
   ],
   "source": [
    "# Step 1: Pivot is column 3, row 1\n",
    "step1 = np.copy(step0)\n",
    "step1[0] = step1[0]/step1[0, 2]\n",
    "step1[1] = step1[1] - step1[1, 2]*step1[0]\n",
    "step1[3] = step1[3] - step1[3, 2]*step1[0]\n",
    "print(step1)"
   ]
  },
  {
   "cell_type": "code",
   "execution_count": 3,
   "metadata": {},
   "outputs": [
    {
     "name": "stdout",
     "output_type": "stream",
     "text": [
      "[[   0.        0.0271    1.        0.0222    0.       -0.0026    0.        4.2031]\n",
      " [   0.       20.3378    0.       -0.2667    1.       -0.0364    0.      167.9837]\n",
      " [   1.        0.1163    0.        0.        0.        0.0233    0.        5.3721]\n",
      " [   0.      -52.6257    0.        4.0667    0.        3.4109    1.     1666.307 ]]\n"
     ]
    }
   ],
   "source": [
    "# Step 2: Pivot is column 1, row 3\n",
    "step2 = np.copy(step1)\n",
    "step2[2] = step2[2]/step2[2, 0]\n",
    "step2[0] = step2[0] - step2[2]*step2[0, 0]\n",
    "step2[1] = step2[1] - step2[2]*step2[1, 0]\n",
    "step2[3] = step2[3] - step2[2]*step2[3, 0]\n",
    "print(step2)"
   ]
  },
  {
   "cell_type": "code",
   "execution_count": 4,
   "metadata": {},
   "outputs": [
    {
     "name": "stdout",
     "output_type": "stream",
     "text": [
      "[[   0.        0.        1.        0.0226   -0.0013   -0.0025    0.        3.9794]\n",
      " [   0.        1.        0.       -0.0131    0.0492   -0.0018    0.        8.2597]\n",
      " [   1.        0.        0.        0.0015   -0.0057    0.0235    0.        4.4117]\n",
      " [   0.        0.        0.        3.3766    2.5876    3.3166    1.     2100.9781]]\n"
     ]
    }
   ],
   "source": [
    "# Step 3: Pivot is column 2, row 2\n",
    "step3 = np.copy(step2)\n",
    "step3[1] = step3[1]/step3[1, 1]\n",
    "step3[0] = step3[0]-step3[1]*step3[0, 1]\n",
    "step3[2] = step3[2]-step3[1]*step3[2, 1]\n",
    "step3[3] = step3[3]-step3[1]*step3[3, 1]\n",
    "print(step3)"
   ]
  },
  {
   "cell_type": "code",
   "execution_count": 5,
   "metadata": {},
   "outputs": [
    {
     "name": "stdout",
     "output_type": "stream",
     "text": [
      "The solution:\n",
      "Eat 3.3766 servings of brown rice per day.\n",
      "Eat 2.5876 servings of avocados per day.\n",
      "Eat 3.3166 servings of chicken breast per day.\n",
      "For a total of 2100.9781 calories per day.\n"
     ]
    }
   ],
   "source": [
    "print(\"The solution:\")\n",
    "print(f\"Eat {step3[3, 3]:.4f} servings of brown rice per day.\")\n",
    "print(f\"Eat {step3[3, 4]:.4f} servings of avocados per day.\")\n",
    "print(f\"Eat {step3[3, 5]:.4f} servings of chicken breast per day.\")\n",
    "print(f\"For a total of {step3[3, 7]:.4f} calories per day.\")"
   ]
  },
  {
   "cell_type": "markdown",
   "metadata": {},
   "source": [
    "## Check Results Using Python (SciPy)"
   ]
  },
  {
   "cell_type": "code",
   "execution_count": 6,
   "metadata": {},
   "outputs": [
    {
     "name": "stdout",
     "output_type": "stream",
     "text": [
      "Optimization terminated successfully.\n",
      "         Current function value: 2100.978093 \n",
      "         Iterations: 3\n"
     ]
    },
    {
     "data": {
      "text/plain": [
       "     fun: 2100.9780925300543\n",
       " message: 'Optimization terminated successfully.'\n",
       "     nit: 3\n",
       "   slack: array([0., 0., 0.])\n",
       "  status: 0\n",
       " success: True\n",
       "       x: array([3.3766, 2.5876, 3.3166])"
      ]
     },
     "execution_count": 6,
     "metadata": {},
     "output_type": "execute_result"
    }
   ],
   "source": [
    "# Vector of to minimize\n",
    "z = [216, 234, 231]\n",
    "\n",
    "# Coefficients on the left side of the matrix\n",
    "A = [[-5, -2.9, -43], [-1.8, -21, -5], [-45, -12, 0]]\n",
    "\n",
    "# Results from the right side of the matrix\n",
    "b = [-167, -77, -183]\n",
    "\n",
    "# Bounds\n",
    "x1_bounds = (0, None)\n",
    "x2_bounds = (0, None)\n",
    "x3_bounds = (0, None)\n",
    "\n",
    "linprog(z, A_ub=A, b_ub=b, bounds=(x1_bounds, x2_bounds, x3_bounds),\n",
    "        options={\"disp\": True})\n"
   ]
  },
  {
   "cell_type": "markdown",
   "metadata": {},
   "source": [
    "## Conclusion\n",
    "\n",
    "The final result of 2,101 calories is fairly close to the 2,088 of my goal. It is likely that a more varied diet would result in a number closer to the goal. However, the three foods I chose are all fairly nutritionally dense. As a result, if I were to try this diet, I would do my best to eat these types of foods but focus on the calorie number and only use the macros as a goal. Achieving both calorie and macro goals at the same time may be difficult without supplements like protein poweder. "
   ]
  },
  {
   "cell_type": "code",
   "execution_count": null,
   "metadata": {},
   "outputs": [],
   "source": []
  }
 ],
 "metadata": {
  "anaconda-cloud": {},
  "kernelspec": {
   "display_name": "Python 3",
   "language": "python",
   "name": "python3"
  },
  "language_info": {
   "codemirror_mode": {
    "name": "ipython",
    "version": 3
   },
   "file_extension": ".py",
   "mimetype": "text/x-python",
   "name": "python",
   "nbconvert_exporter": "python",
   "pygments_lexer": "ipython3",
   "version": "3.6.7"
  }
 },
 "nbformat": 4,
 "nbformat_minor": 2
}
