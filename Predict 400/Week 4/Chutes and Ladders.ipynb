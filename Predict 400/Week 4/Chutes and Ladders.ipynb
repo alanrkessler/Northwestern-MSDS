{
 "cells": [
  {
   "cell_type": "markdown",
   "metadata": {},
   "source": [
    "# Chutes and Ladders\n",
    "\n",
    "I read an article by Joel Smith about probabilities related to the popular children's board game, Chutes and Ladders. He specifically looked at how many turns it takes to complete a game for a given number of players. To perform this analysis, Smith used Markov Chains and Minitab software. I am using Monte Carlo simulation and Python to see how closely I can get to his results.\n",
    "\n",
    "Smith, J. (2016, April 01). What Are the Odds? Chutes and Ladders. Retrieved July 10, 2017, from http://blog.minitab.com/blog/fun-with-statistics/what-are-the-odds-chutes-and-ladders"
   ]
  },
  {
   "cell_type": "code",
   "execution_count": 1,
   "metadata": {},
   "outputs": [],
   "source": [
    "\"\"\"Simulate games of Chutes and Ladders.\"\"\"\n",
    "\n",
    "import random\n",
    "import pandas as pd\n",
    "import numpy as np\n",
    "\n",
    "# Set random number generator seed to reproduce results\n",
    "random.seed(9655)"
   ]
  },
  {
   "cell_type": "markdown",
   "metadata": {},
   "source": [
    "## Movement on the Board\n",
    "\n",
    "I first need a function for how pieces move on the board. The player first spins to see how many spaces to move. Normally, the player just moves that many spaces, but if the player gets a chute or ladder, they get moved to a predetermined space. Finally, if the resulting space is past the final spot (100), then the player does not move. "
   ]
  },
  {
   "cell_type": "code",
   "execution_count": 2,
   "metadata": {},
   "outputs": [],
   "source": [
    "def move(start, spin):\n",
    "    \"\"\"Move based on starting position and spinner value.\"\"\"\n",
    "    chutes_ladders = {1: 38, 4: 14, 9: 31, 16: 6, 21: 42, 28: 84, 36: 44,\n",
    "                      48: 26, 49: 11, 51: 67, 56: 53, 62: 19, 64: 60, 71: 91,\n",
    "                      80: 100, 87: 24, 93: 73, 95: 75, 98: 78}\n",
    "\n",
    "    new_pos = start + spin\n",
    "    try:\n",
    "        final_pos = chutes_ladders[new_pos]\n",
    "    except KeyError:\n",
    "        if new_pos > 100:\n",
    "            final_pos = start\n",
    "        else:\n",
    "            final_pos = new_pos\n",
    "    return final_pos"
   ]
  },
  {
   "cell_type": "markdown",
   "metadata": {},
   "source": [
    "## Simulating a Game\n",
    "\n",
    "Next, I need a function to simulate a single game and return the number of turns required to complete it. The first step is to place all of the pieces at the starting spot. After that, I loop through turns until a player wins using random number generation. It is possible although unlikely for the game to keep going in an endless loop. To prevent this, I have capped the number of turns at 1,000."
   ]
  },
  {
   "cell_type": "code",
   "execution_count": 3,
   "metadata": {
    "scrolled": true
   },
   "outputs": [],
   "source": [
    "def sim_game(players, start=0, slices=6):\n",
    "    \"\"\"Simulate a single game of Chutes and Ladders.\n",
    "\n",
    "    Args:\n",
    "        - players (int): the number of players (2-4 recommended).\n",
    "        - start (int): starting square (default 0).\n",
    "        - slices (int): number of spinner slices (default 6).\n",
    "\n",
    "    Returns:\n",
    "        number of turns needed to complete the game.\n",
    "\n",
    "    \"\"\"\n",
    "    # Starting state at the starting square\n",
    "    game_state = {}\n",
    "    turn = 0\n",
    "    exitflag = False\n",
    "    for player in range(players):\n",
    "        game_state[player] = start\n",
    "\n",
    "    # Go through turns with a maximum number of 1000 turns\n",
    "    while True:\n",
    "        turn += 1\n",
    "        if turn == 1000:\n",
    "            break\n",
    "        for player in range(players):\n",
    "            game_state[player] = move(game_state[player],\n",
    "                                      random.randrange(1, slices+1))\n",
    "            if game_state[player] == 100:\n",
    "                exitflag = True\n",
    "        if exitflag:\n",
    "            break\n",
    "    return turn"
   ]
  },
  {
   "cell_type": "markdown",
   "metadata": {},
   "source": [
    "## Simulate Many Games\n",
    "\n",
    "I want to compare the point estimates shown in the article for 1 to 4 players. To approximate the results with simulation, I will use 100,000 iterations. I do not expect the simulated results to match the theoretical exactly but it should be close. As the number of simulations increase, then the difference should decrease."
   ]
  },
  {
   "cell_type": "code",
   "execution_count": 4,
   "metadata": {},
   "outputs": [],
   "source": [
    "def sim_games(players, sims=100000):\n",
    "    \"\"\"Simulate many games for a given number of players.\n",
    "\n",
    "    Args:\n",
    "        - players (int): the number of players (2-4 recommended).\n",
    "        - sims (int): the number of simulated games (default 100,000)\n",
    "\n",
    "    Returns:\n",
    "        summary statistics of the number of turns to complete a game.\n",
    "\n",
    "    \"\"\"\n",
    "    # Generate DataFrame of simulated games\n",
    "    games = {}\n",
    "    for i in range(sims):\n",
    "        games[i] = sim_game(players)\n",
    "    games_df = pd.DataFrame.from_dict(games, orient='index')\n",
    "    games_df.columns = ['Turns']\n",
    "\n",
    "    # Calculate summary statistics\n",
    "    min_turns = games_df['Turns'].min()\n",
    "    min_turns_prob = len(games_df[games_df['Turns'] == min_turns])/sims\n",
    "    q90 = int(np.ceil(games_df.quantile(0.9).values[0]))\n",
    "    q95 = int(np.ceil(games_df.quantile(0.95).values[0]))\n",
    "    q99 = int(np.ceil(games_df.quantile(0.99).values[0]))\n",
    "    med_turns = games_df['Turns'].median()\n",
    "    mean_turns = games_df['Turns'].mean()\n",
    "\n",
    "    # Print summary statistics\n",
    "    print(f\"\\nFor {players:d} Player(s):\")\n",
    "    print(f\"Minimum of {min_turns:d} turns to complete the game\")\n",
    "    print(f\"With a probability of {min_turns_prob:.4f}\")\n",
    "    print(f\"90% of player-games will finish before turn {q90:d}\")\n",
    "    print(f\"95% of player-games will finish before turn {q95:d}\")\n",
    "    print(f\"99% of player-games will finish before turn {q99:d}\")\n",
    "    print(f\"Median of {med_turns:.4f} turns to complete the game\")\n",
    "    print(f\"Mean of {mean_turns:.4f} turns to complete the game\")\n",
    "\n",
    "    return games_df"
   ]
  },
  {
   "cell_type": "code",
   "execution_count": 5,
   "metadata": {},
   "outputs": [
    {
     "name": "stdout",
     "output_type": "stream",
     "text": [
      "\n",
      "For 1 Player(s):\n",
      "Minimum of 7 turns to complete the game\n",
      "With a probability of 0.0015\n",
      "90% of player-games will finish before turn 73\n",
      "95% of player-games will finish before turn 90\n",
      "99% of player-games will finish before turn 128\n",
      "Median of 33.0000 turns to complete the game\n",
      "Mean of 39.4923 turns to complete the game\n",
      "\n",
      "For 2 Player(s):\n",
      "Minimum of 7 turns to complete the game\n",
      "With a probability of 0.0032\n",
      "90% of player-games will finish before turn 44\n",
      "95% of player-games will finish before turn 53\n",
      "99% of player-games will finish before turn 73\n",
      "Median of 23.0000 turns to complete the game\n",
      "Mean of 26.5206 turns to complete the game\n",
      "\n",
      "For 3 Player(s):\n",
      "Minimum of 7 turns to complete the game\n",
      "With a probability of 0.0048\n",
      "90% of player-games will finish before turn 35\n",
      "95% of player-games will finish before turn 40\n",
      "99% of player-games will finish before turn 53\n",
      "Median of 20.0000 turns to complete the game\n",
      "Mean of 21.7445 turns to complete the game\n",
      "\n",
      "For 4 Player(s):\n",
      "Minimum of 7 turns to complete the game\n",
      "With a probability of 0.0063\n",
      "90% of player-games will finish before turn 30\n",
      "95% of player-games will finish before turn 34\n",
      "99% of player-games will finish before turn 44\n",
      "Median of 18.0000 turns to complete the game\n",
      "Mean of 19.3841 turns to complete the game\n"
     ]
    }
   ],
   "source": [
    "if __name__ == '__main__':\n",
    "    sim_games(1)\n",
    "    sim_games(2)\n",
    "    sim_games(3)\n",
    "    sim_games(4)"
   ]
  },
  {
   "cell_type": "markdown",
   "metadata": {},
   "source": [
    "## Conclusions\n",
    "\n",
    "My results are close to those in the article. I was surprised that even with 100,000 simulations, the mean was not closer to the Markov Chain results. My next move should be learning how to replicate the Markov Chain results themselves. \n",
    "\n",
    "Like Smith says, there is really no in-game advantage to understanding the statistics only that adding more players speeds up the game. "
   ]
  },
  {
   "cell_type": "code",
   "execution_count": null,
   "metadata": {},
   "outputs": [],
   "source": []
  }
 ],
 "metadata": {
  "anaconda-cloud": {},
  "kernelspec": {
   "display_name": "Python 3",
   "language": "python",
   "name": "python3"
  },
  "language_info": {
   "codemirror_mode": {
    "name": "ipython",
    "version": 3
   },
   "file_extension": ".py",
   "mimetype": "text/x-python",
   "name": "python",
   "nbconvert_exporter": "python",
   "pygments_lexer": "ipython3",
   "version": "3.6.7"
  }
 },
 "nbformat": 4,
 "nbformat_minor": 2
}
