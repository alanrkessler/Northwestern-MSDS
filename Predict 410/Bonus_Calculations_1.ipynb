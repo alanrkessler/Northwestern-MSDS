{
 "cells": [
  {
   "cell_type": "markdown",
   "metadata": {},
   "source": [
    "# Alan Kessler Bonus Calculations 1\n",
    "\n",
    "## Chapter 2 Exercises in Regression Analysis by Example p49-55\n",
    "## Chapter 3 Exercises in Regression Analysis by Example p82\n",
    "\n",
    "#### 2.1 part a\n",
    "\n",
    "2.1 Using the data in Table 2.6:\n",
    "\n",
    "(a) Compute Var(Y) and Var(X)."
   ]
  },
  {
   "cell_type": "code",
   "execution_count": 1,
   "metadata": {
    "collapsed": false
   },
   "outputs": [
    {
     "name": "stdout",
     "output_type": "stream",
     "text": [
      "Sample Var(Y) = 1,983.45\n",
      "Sample Var(X) = 8.14\n"
     ]
    }
   ],
   "source": [
    "import numpy as np\n",
    "y = np.array([23, 29, 49, 64, 74, 87, 96, 97, \n",
    "              109, 119, 149, 145, 154, 166])\n",
    "x = np.array([1, 2, 3, 4, 4, 5, 6, \n",
    "              6, 7, 8, 9, 9, 10, 10])\n",
    "print(\"Sample Var(Y) = {0:,.2f}\".format(np.var(y)))\n",
    "print(\"Sample Var(X) = {0:,.2f}\".format(np.var(x)))"
   ]
  },
  {
   "cell_type": "markdown",
   "metadata": {},
   "source": [
    "#### 2.3 parts a and c\n",
    "\n",
    "2.3 Using the regression output in Table 2.9, test the following hypotheses using $\\alpha=0.1$.\n",
    "    \n",
    "(a) $H_0:\\beta_1=15$ versus $H_1:\\beta_1\\neq15$"
   ]
  },
  {
   "cell_type": "code",
   "execution_count": 2,
   "metadata": {
    "collapsed": false
   },
   "outputs": [
    {
     "name": "stdout",
     "output_type": "stream",
     "text": [
      "Critical Value = 1.78\n",
      "T Statistic = 0.15\n",
      "Do not reject the null hypothesis\n"
     ]
    }
   ],
   "source": [
    "from scipy.stats import t\n",
    "critValue = t.isf(0.05, 12)\n",
    "tStat = (15.509 - 15) / 3.355\n",
    "print(\"Critical Value = {0:,.2f}\".format(critValue))\n",
    "print(\"T Statistic = {0:,.2f}\".format(tStat))\n",
    "if tStat > critValue:\n",
    "    print(\"Reject the null hypothesis\")\n",
    "else:\n",
    "    print(\"Do not reject the null hypothesis\")"
   ]
  },
  {
   "cell_type": "markdown",
   "metadata": {},
   "source": [
    "(c) $H_0:\\beta_0=0$ versus $H_1:\\beta_1\\neq0$"
   ]
  },
  {
   "cell_type": "code",
   "execution_count": 3,
   "metadata": {
    "collapsed": false
   },
   "outputs": [
    {
     "name": "stdout",
     "output_type": "stream",
     "text": [
      "Critical Value = 1.78\n",
      "T Statistic = 1.24\n",
      "Do not reject the null hypothesis\n"
     ]
    }
   ],
   "source": [
    "tStat = 4.162 / 3.355\n",
    "print(\"Critical Value = {0:,.2f}\".format(critValue))\n",
    "print(\"T Statistic = {0:,.2f}\".format(tStat))\n",
    "if tStat > critValue:\n",
    "    print(\"Reject the null hypothesis\")\n",
    "else:\n",
    "    print(\"Do not reject the null hypothesis\")"
   ]
  },
  {
   "cell_type": "markdown",
   "metadata": {},
   "source": [
    "#### 2.4\n",
    "\n",
    "Using the regression output in Table 2.9, construct the 99% confidence interval for $\\beta_0$."
   ]
  },
  {
   "cell_type": "code",
   "execution_count": 4,
   "metadata": {
    "collapsed": false
   },
   "outputs": [
    {
     "name": "stdout",
     "output_type": "stream",
     "text": [
      "Confidence Interval is (-6.086, 14.410)\n"
     ]
    }
   ],
   "source": [
    "ci = t.isf(0.005, 12) * 3.355\n",
    "print(\"Confidence Interval is ({0:.3f}, {1:.3f})\".format(4.162-ci, 4.162+ci))"
   ]
  },
  {
   "cell_type": "markdown",
   "metadata": {},
   "source": [
    "#### 2.6\n",
    "\n",
    "Using the data in Table 2.5, and the fitted values and the residuals in Table 2.7, verify that:\n",
    "\n",
    "(a) $Cor(Y, X) = Cor(Y, \\hat{Y}) = 0.994$"
   ]
  },
  {
   "cell_type": "code",
   "execution_count": 5,
   "metadata": {
    "collapsed": false
   },
   "outputs": [
    {
     "name": "stdout",
     "output_type": "stream",
     "text": [
      "Cor(Y, X) = 0.994\n",
      "Cor(Y, Y-hat) = 0.994\n"
     ]
    }
   ],
   "source": [
    "from scipy.stats.stats import pearsonr \n",
    "yhat = np.array([19.67, 35.18, 50.69, 66.20,\n",
    "                 66.20, 81.71, 97.21, 97.21,\n",
    "                 112.72, 128.23, 143.74,\n",
    "                 143.74, 159.25, 159.25])\n",
    "print(\"Cor(Y, X) = {0:.3f}\".format(pearsonr(y, x)[0]))\n",
    "print(\"Cor(Y, Y-hat) = {0:.3f}\".format(pearsonr(y, yhat)[0]))"
   ]
  },
  {
   "cell_type": "markdown",
   "metadata": {},
   "source": [
    "(b) $SST = 27768.348$\n",
    "\n",
    "Appears to be inconsistent rounding in the book"
   ]
  },
  {
   "cell_type": "code",
   "execution_count": 6,
   "metadata": {
    "collapsed": false
   },
   "outputs": [
    {
     "name": "stdout",
     "output_type": "stream",
     "text": [
      "SST = 27768.357\n"
     ]
    }
   ],
   "source": [
    "print(\"SST = {0:.3f}\".format(np.sum((y-np.mean(y))**2)))"
   ]
  },
  {
   "cell_type": "markdown",
   "metadata": {},
   "source": [
    "(c) $SSE=348.848$\n",
    "\n",
    "Appears to be inconsistent rounding in the book"
   ]
  },
  {
   "cell_type": "code",
   "execution_count": 7,
   "metadata": {
    "collapsed": false
   },
   "outputs": [
    {
     "name": "stdout",
     "output_type": "stream",
     "text": [
      "SSE = 348.721\n"
     ]
    }
   ],
   "source": [
    "print(\"SSE = {0:.3f}\".format(np.sum((y-yhat)**2)))"
   ]
  },
  {
   "cell_type": "markdown",
   "metadata": {},
   "source": [
    "#### 2.7 \n",
    "\n",
    "Verify that the four data sets in Table 2.4 give identical results for the following quantities.\n",
    "\n",
    "(a) $\\hat{\\beta}_0$ and $\\hat{\\beta}_1$"
   ]
  },
  {
   "cell_type": "code",
   "execution_count": 8,
   "metadata": {
    "collapsed": false
   },
   "outputs": [
    {
     "name": "stdout",
     "output_type": "stream",
     "text": [
      "Slope 1 = 0.500\n",
      "Slope 2 = 0.500\n",
      "Slope 3 = 0.500\n",
      "Slope 4 = 0.500\n"
     ]
    }
   ],
   "source": [
    "from scipy.stats import linregress\n",
    "\n",
    "x1_3 = np.array([10, 8, 13, 9, 11, 14,\n",
    "               6, 4, 12, 7, 5])\n",
    "x4 = np.array([8, 8, 8, 8, 8, 8, 8,\n",
    "               19, 8 , 8 , 8])\n",
    "y1 = np.array([8.04, 6.95, 7.58, 8.81,\n",
    "               8.33, 9.96, 7.24, 4.26,\n",
    "               10.84, 4.82, 5.68])\n",
    "y2 = np.array([9.14, 8.14, 8.74, 8.77,\n",
    "               9.26, 8.1, 6.13, 3.1,\n",
    "               9.13, 7.26, 4.74])\n",
    "y3 = np.array([7.46, 6.77, 12.74, 7.11,\n",
    "               7.81, 8.84, 6.08, 5.39,\n",
    "               8.15, 6.42, 5.73])\n",
    "y4 = np.array([6.58, 5.76, 7.71, 8.84,\n",
    "               8.47, 7.04, 5.25, 12.5,\n",
    "               5.56, 7.91, 6.89])\n",
    "\n",
    "print(\"Slope 1 = {0:.3f}\".format(linregress(x1_3, y1)[0]))\n",
    "print(\"Slope 2 = {0:.3f}\".format(linregress(x1_3, y2)[0]))\n",
    "print(\"Slope 3 = {0:.3f}\".format(linregress(x1_3, y3)[0]))\n",
    "print(\"Slope 4 = {0:.3f}\".format(linregress(x4, y4)[0]))"
   ]
  },
  {
   "cell_type": "markdown",
   "metadata": {},
   "source": [
    "(b) Cor(X, Y)"
   ]
  },
  {
   "cell_type": "code",
   "execution_count": 9,
   "metadata": {
    "collapsed": false
   },
   "outputs": [
    {
     "name": "stdout",
     "output_type": "stream",
     "text": [
      "Cor(X, Y) 1 = 0.82\n",
      "Cor(X, Y) 2 = 0.82\n",
      "Cor(X, Y) 3 = 0.82\n",
      "Cor(X, Y) 4 = 0.82\n"
     ]
    }
   ],
   "source": [
    "print(\"Cor(X, Y) 1 = {0:.2f}\".format(pearsonr(x1_3, y1)[0]))\n",
    "print(\"Cor(X, Y) 2 = {0:.2f}\".format(pearsonr(x1_3, y2)[0]))\n",
    "print(\"Cor(X, Y) 3 = {0:.2f}\".format(pearsonr(x1_3, y3)[0]))\n",
    "print(\"Cor(X, Y) 4 = {0:.2f}\".format(pearsonr(x4, y4)[0]))"
   ]
  },
  {
   "cell_type": "markdown",
   "metadata": {},
   "source": [
    "(c) ${R}^2$"
   ]
  },
  {
   "cell_type": "code",
   "execution_count": 10,
   "metadata": {
    "collapsed": false
   },
   "outputs": [
    {
     "name": "stdout",
     "output_type": "stream",
     "text": [
      "R-Squared 1 = 0.67\n",
      "R-Squared 2 = 0.67\n",
      "R-Squared 3 = 0.67\n",
      "R-Squared 4 = 0.67\n"
     ]
    }
   ],
   "source": [
    "print(\"R-Squared 1 = {0:.2f}\".format(linregress(x1_3, y1)[2]**2))\n",
    "print(\"R-Squared 2 = {0:.2f}\".format(linregress(x1_3, y2)[2]**2))\n",
    "print(\"R-Squared 3 = {0:.2f}\".format(linregress(x1_3, y3)[2]**2))\n",
    "print(\"R-Squared 4 = {0:.2f}\".format(linregress(x4, y4)[2]**2))"
   ]
  },
  {
   "cell_type": "markdown",
   "metadata": {},
   "source": [
    "(d) $t$-test (Assuming asking for the t-statistic from page 40)"
   ]
  },
  {
   "cell_type": "code",
   "execution_count": 11,
   "metadata": {
    "collapsed": false
   },
   "outputs": [
    {
     "name": "stdout",
     "output_type": "stream",
     "text": [
      "T-Stat 1 = 4.24\n",
      "T-Stat 2 = 4.24\n",
      "T-Stat 3 = 4.24\n",
      "T-Stat 4 = 4.24\n"
     ]
    }
   ],
   "source": [
    "def tstat(Y, X):\n",
    "    c = linregress(X, Y)[2]\n",
    "    n = len(Y)\n",
    "    return (c*np.sqrt(n-2))/np.sqrt(1-c**2)\n",
    "print(\"T-Stat 1 = {0:.2f}\".format(tstat(x1_3, y1)))\n",
    "print(\"T-Stat 2 = {0:.2f}\".format(tstat(x1_3, y2)))\n",
    "print(\"T-Stat 3 = {0:.2f}\".format(tstat(x1_3, y3)))\n",
    "print(\"T-Stat 4 = {0:.2f}\".format(tstat(x4, y4)))"
   ]
  },
  {
   "cell_type": "markdown",
   "metadata": {},
   "source": [
    "#### 3.1\n",
    "\n",
    "Using the Supervisor data, verify that the coefficient of $X_1$ in the final equation $\\hat{Y}=15.3276+0.7803 X_1 -0.0502 X_2$ in (3.12) can be obtained from a series of simple regression equations, as outlined in Section 3.5 for the coefficient of $X_2$."
   ]
  },
  {
   "cell_type": "code",
   "execution_count": 12,
   "metadata": {
    "collapsed": false
   },
   "outputs": [
    {
     "name": "stdout",
     "output_type": "stream",
     "text": [
      "From multivariate beta 1 = 0.7803\n",
      "From series of simple regression beta 1 = 0.7803\n"
     ]
    },
    {
     "name": "stderr",
     "output_type": "stream",
     "text": [
      "/Users/alankessler/anaconda/envs/drei/lib/python3.5/site-packages/scipy/linalg/basic.py:1226: RuntimeWarning: internal gelsd driver lwork query error, required iwork dimension not returned. This is likely the result of LAPACK bug 0038, fixed in LAPACK 3.2.2 (released July 21, 2010). Falling back to 'gelss' driver.\n",
      "  warnings.warn(mesg, RuntimeWarning)\n"
     ]
    }
   ],
   "source": [
    "from sklearn import linear_model\n",
    "y = np.array([43,63,71,61,81,43,58,71,72,67,64,67,69,68,\n",
    "              77,81,74,65,65,50,50,64,53,40,63,66,78,48,85,82])\n",
    "x1 = np.array([51,64,70,63,78,55,67,75,82,61,53,60,62,83,\n",
    "               77,90,85,60,70,58,40,61,66,37,54,77,75,\n",
    "               57,85,82]).reshape(-1, 1)\n",
    "x2 = np.array([30,51,68,45,56,49,42,50,72,45,53,47,57,\n",
    "               83,54,50,64,65,46,68,33,52,52,42,42,66,\n",
    "               58,44,71,39]).reshape(-1, 1)\n",
    "ols = linear_model.LinearRegression()\n",
    "b1 = ols.fit(np.concatenate((x1,x2), axis=1), y).coef_[0]\n",
    "print(\"From multivariate beta 1 = {0:.4f}\".format(b1))\n",
    "\n",
    "# Fit Y based on X2\n",
    "step1 = ols.fit(x2, y)\n",
    "# Fit X1 based on X2\n",
    "step2 = ols.fit(x2, x1)\n",
    "# Get residuals\n",
    "step1_res = y - step1.predict(x2)[0]\n",
    "step2_res = x1 - step2.predict(x2)\n",
    "# Step 3 fit residuals from step 1 based on residuals from step 2\n",
    "b1n = ols.fit(step2_res, step1_res).coef_[0]\n",
    "print(\"From series of simple regression beta 1 = {0:.4f}\".format(b1n))"
   ]
  },
  {
   "cell_type": "markdown",
   "metadata": {},
   "source": [
    "#### 3.2\n",
    "\n",
    "Construct a small data set consisting of one response and two predicor variables so that the regression coefficient of $X_1$ in the following two fitted equations are equal: $\\hat{Y}=\\hat{\\beta}_0+\\hat{\\beta}_1 X_1$ and  $\\hat{Y}=\\hat{\\alpha}_0+\\hat{\\alpha}_1 X_1+\\hat{\\alpha}_2 X_2$. Hint: The two predictor variables should be uncorrelated. "
   ]
  },
  {
   "cell_type": "code",
   "execution_count": 13,
   "metadata": {
    "collapsed": false
   },
   "outputs": [
    {
     "name": "stdout",
     "output_type": "stream",
     "text": [
      "Beta 1 = 2.000\n",
      "Alpha 1 = 2.000\n"
     ]
    }
   ],
   "source": [
    "np.random.seed(546)\n",
    "# Simulate uncorrelated data\n",
    "x = np.random.multivariate_normal([0,0], [[1, 0], [0, 1]], 100000)\n",
    "# Create a simulated response based on the data\n",
    "y = 2*x[:,0] - 0.5*x[:,1]\n",
    "# Fit the first model to the data\n",
    "b1 = ols.fit(x[:,0].reshape(-1, 1), y).coef_[0]\n",
    "print(\"Beta 1 = {0:.3f}\".format(b1))\n",
    "# Fit the second model to the data\n",
    "a1 = ols.fit(x, y).coef_[0]\n",
    "print(\"Alpha 1 = {0:.3f}\".format(a1))"
   ]
  },
  {
   "cell_type": "markdown",
   "metadata": {},
   "source": [
    "#### 3.3 \n",
    "\n",
    "Table 3.10 shows the scores in the final examination $F$ and the scores in two preliminary examinations $P_1$ and $P_2$ for 22 students in a statistics course. The data can be found at the book's Website.\n",
    "\n",
    "(a) Fit each of the following models to the data:\n",
    "\n",
    "Model 1: $F=\\beta_0+\\beta_1P_1+\\epsilon$\n",
    "\n",
    "Model 2: $F=\\beta_0+\\beta_2P_2+\\epsilon$\n",
    "\n",
    "Model 3: $F=\\beta_0+\\beta_1P_1+\\beta_2P_2+\\epsilon$"
   ]
  },
  {
   "cell_type": "code",
   "execution_count": 14,
   "metadata": {
    "collapsed": false
   },
   "outputs": [],
   "source": [
    "import statsmodels.api as sm\n",
    "\n",
    "# Load data\n",
    "F = np.array([68,75,85,94,86,90,86,68,55,69,91,\n",
    "              75,81,91,80,94,94,97,79,84,\n",
    "              65,83])\n",
    "P1 = np.array([78,74,82,90,87,90,83,72,68,69,91,\n",
    "               79,89,93,87,91,86,91,81,80,\n",
    "               70,79])\n",
    "P2 = np.array([73,76,79,96,90,92,95,69,67,70,89,\n",
    "               75,84,97,77,96,94,92,82,83,\n",
    "               66,81])\n",
    "# Fit the models\n",
    "model1 = ols.fit(P1.reshape(-1,1), F)\n",
    "regr1 = sm.OLS(F, sm.add_constant(P1.reshape(-1,1))).fit()\n",
    "model2 = ols.fit(P1.reshape(-1,1), F)\n",
    "regr2 = sm.OLS(F, sm.add_constant(P2.reshape(-1,1))).fit()\n",
    "model3 = ols.fit(np.concatenate((P1.reshape(-1,1),P2.reshape(-1,1)), axis=1), F)\n",
    "regr3 = sm.OLS(F, sm.add_constant(np.concatenate((P1.reshape(-1,1),P2.reshape(-1,1)), axis=1))).fit()"
   ]
  },
  {
   "cell_type": "markdown",
   "metadata": {},
   "source": [
    "(b) Test whether $\\beta_0=0$ in each of the three models."
   ]
  },
  {
   "cell_type": "code",
   "execution_count": 15,
   "metadata": {
    "collapsed": false
   },
   "outputs": [
    {
     "name": "stdout",
     "output_type": "stream",
     "text": [
      "Model 1 cannot reject intercept = 0 with alpha = 0.05. P-value = 0.0676\n",
      "Model 2 cannot reject intercept = 0 with alpha = 0.05. P-value = 0.8089\n",
      "Model 3 cannot reject intercept = 0 with alpha = 0.05. P-value = 0.1329\n"
     ]
    }
   ],
   "source": [
    "# Need to use stats models\n",
    "print(\"Model 1 cannot reject intercept = 0 with alpha = 0.05. P-value = {0:.4f}\".format(regr1.pvalues[0]))\n",
    "print(\"Model 2 cannot reject intercept = 0 with alpha = 0.05. P-value = {0:.4f}\".format(regr2.pvalues[0]))\n",
    "print(\"Model 3 cannot reject intercept = 0 with alpha = 0.05. P-value = {0:.4f}\".format(regr3.pvalues[0]))"
   ]
  },
  {
   "cell_type": "markdown",
   "metadata": {},
   "source": [
    "(c) Which variable individually, $P_1$ or $P_2$, is a better predictor of F?"
   ]
  },
  {
   "cell_type": "code",
   "execution_count": 16,
   "metadata": {
    "collapsed": false
   },
   "outputs": [
    {
     "name": "stdout",
     "output_type": "stream",
     "text": [
      "P1 R-Squared = 0.802\n",
      "P2 R-Squared = 0.860\n",
      "P2 is a better predictor based on R-Squared\n"
     ]
    }
   ],
   "source": [
    "from sklearn.metrics import r2_score\n",
    "r2_1 = regr1.rsquared\n",
    "r2_2 = regr2.rsquared\n",
    "\n",
    "print(\"P1 R-Squared = {0:.3f}\".format(r2_1))\n",
    "print(\"P2 R-Squared = {0:.3f}\".format(r2_2))\n",
    "print(\"P2 is a better predictor based on R-Squared\")"
   ]
  },
  {
   "cell_type": "markdown",
   "metadata": {},
   "source": [
    "(d) Which of the three models would you use to predict the final examination scores for a student who scored 78 and 85 on the first and second preliminary examinations, respectively? What is your prediction in this case?"
   ]
  },
  {
   "cell_type": "code",
   "execution_count": 17,
   "metadata": {
    "collapsed": false
   },
   "outputs": [
    {
     "name": "stdout",
     "output_type": "stream",
     "text": [
      "R-Squared for model 3 = 0.886\n"
     ]
    }
   ],
   "source": [
    "# Check model 3 R-Squared\n",
    "r2 = regr3.rsquared\n",
    "print(\"R-Squared for model 3 = {0:.3f}\".format(r2))"
   ]
  },
  {
   "cell_type": "code",
   "execution_count": 18,
   "metadata": {
    "collapsed": false
   },
   "outputs": [
    {
     "data": {
      "text/plain": [
       "array([[ 1.        ,  0.88414335],\n",
       "       [ 0.88414335,  1.        ]])"
      ]
     },
     "execution_count": 18,
     "metadata": {},
     "output_type": "execute_result"
    }
   ],
   "source": [
    "# Correlation of P1 and P2\n",
    "np.corrcoef(P1, P2)"
   ]
  },
  {
   "cell_type": "code",
   "execution_count": 19,
   "metadata": {
    "collapsed": false
   },
   "outputs": [
    {
     "name": "stdout",
     "output_type": "stream",
     "text": [
      "My prediction is 83.51\n"
     ]
    }
   ],
   "source": [
    "# Correlation is extremely high, so would recommend using model 2\n",
    "# Score using 78, 85 as scores\n",
    "prediction = ols.fit(P2.reshape(-1,1), F).predict(np.array([85]).reshape(-1,1))[0]\n",
    "print(\"My prediction is {0:.2f}\".format(prediction))"
   ]
  },
  {
   "cell_type": "code",
   "execution_count": null,
   "metadata": {
    "collapsed": true
   },
   "outputs": [],
   "source": []
  }
 ],
 "metadata": {
  "anaconda-cloud": {},
  "kernelspec": {
   "display_name": "Python [conda env:drei]",
   "language": "python",
   "name": "conda-env-drei-py"
  },
  "language_info": {
   "codemirror_mode": {
    "name": "ipython",
    "version": 3
   },
   "file_extension": ".py",
   "mimetype": "text/x-python",
   "name": "python",
   "nbconvert_exporter": "python",
   "pygments_lexer": "ipython3",
   "version": "3.5.2"
  }
 },
 "nbformat": 4,
 "nbformat_minor": 2
}
