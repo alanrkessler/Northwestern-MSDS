{
 "cells": [
  {
   "cell_type": "markdown",
   "metadata": {},
   "source": [
    "# Portfolio Optimization Examples\n",
    "*Alan Kessler and Anil Koluguri, MSDS 460 Section 56*\n",
    "\n",
    "Import **optimization.py** created for the project."
   ]
  },
  {
   "cell_type": "code",
   "execution_count": 1,
   "metadata": {},
   "outputs": [],
   "source": [
    "%matplotlib inline\n",
    "import json\n",
    "import optimization"
   ]
  },
  {
   "cell_type": "markdown",
   "metadata": {},
   "source": [
    "A portfolio can be saved as a JSON file for documentation purposes. It represents the amount invested in each asset. The amount stored in an assumed risk-free asset is shown with symbol `RISK-FREE`."
   ]
  },
  {
   "cell_type": "code",
   "execution_count": 2,
   "metadata": {},
   "outputs": [
    {
     "data": {
      "text/plain": [
       "{'AAPL': 1000,\n",
       " 'MSFT': 2000,\n",
       " 'INTC': 1000,\n",
       " 'AMZN': 0,\n",
       " 'GOOGL': 3000,\n",
       " 'NFLX': 3000}"
      ]
     },
     "execution_count": 2,
     "metadata": {},
     "output_type": "execute_result"
    }
   ],
   "source": [
    "current_file = open(\"portfolio_example.json\")\n",
    "current_port = json.load(current_file)\n",
    "current_file.close()\n",
    "current_port"
   ]
  },
  {
   "cell_type": "markdown",
   "metadata": {},
   "source": [
    "The script downloads historical daily returns for the investments in the portfolio, ignoring the risk free asset which is assumed theoretical. The data is from Yahoo Finance and the connection may be restricted, so restart and try again if an error is returned."
   ]
  },
  {
   "cell_type": "code",
   "execution_count": 3,
   "metadata": {},
   "outputs": [
    {
     "data": {
      "text/html": [
       "<div>\n",
       "<style scoped>\n",
       "    .dataframe tbody tr th:only-of-type {\n",
       "        vertical-align: middle;\n",
       "    }\n",
       "\n",
       "    .dataframe tbody tr th {\n",
       "        vertical-align: top;\n",
       "    }\n",
       "\n",
       "    .dataframe thead th {\n",
       "        text-align: right;\n",
       "    }\n",
       "</style>\n",
       "<table border=\"1\" class=\"dataframe\">\n",
       "  <thead>\n",
       "    <tr style=\"text-align: right;\">\n",
       "      <th></th>\n",
       "      <th>AAPL</th>\n",
       "      <th>MSFT</th>\n",
       "      <th>INTC</th>\n",
       "      <th>AMZN</th>\n",
       "      <th>GOOGL</th>\n",
       "      <th>NFLX</th>\n",
       "    </tr>\n",
       "    <tr>\n",
       "      <th>Date</th>\n",
       "      <th></th>\n",
       "      <th></th>\n",
       "      <th></th>\n",
       "      <th></th>\n",
       "      <th></th>\n",
       "      <th></th>\n",
       "    </tr>\n",
       "  </thead>\n",
       "  <tbody>\n",
       "    <tr>\n",
       "      <th>2018-01-03</th>\n",
       "      <td>-0.000174</td>\n",
       "      <td>0.004643</td>\n",
       "      <td>-0.034527</td>\n",
       "      <td>0.012694</td>\n",
       "      <td>0.016917</td>\n",
       "      <td>0.019601</td>\n",
       "    </tr>\n",
       "    <tr>\n",
       "      <th>2018-01-04</th>\n",
       "      <td>0.004634</td>\n",
       "      <td>0.008763</td>\n",
       "      <td>-0.018509</td>\n",
       "      <td>0.004466</td>\n",
       "      <td>0.003877</td>\n",
       "      <td>0.002825</td>\n",
       "    </tr>\n",
       "    <tr>\n",
       "      <th>2018-01-05</th>\n",
       "      <td>0.011321</td>\n",
       "      <td>0.012322</td>\n",
       "      <td>0.006953</td>\n",
       "      <td>0.016033</td>\n",
       "      <td>0.013173</td>\n",
       "      <td>0.020981</td>\n",
       "    </tr>\n",
       "    <tr>\n",
       "      <th>2018-01-08</th>\n",
       "      <td>-0.003721</td>\n",
       "      <td>0.001020</td>\n",
       "      <td>0.000000</td>\n",
       "      <td>0.014322</td>\n",
       "      <td>0.003524</td>\n",
       "      <td>0.009762</td>\n",
       "    </tr>\n",
       "    <tr>\n",
       "      <th>2018-01-09</th>\n",
       "      <td>-0.000115</td>\n",
       "      <td>-0.000680</td>\n",
       "      <td>-0.025352</td>\n",
       "      <td>0.004665</td>\n",
       "      <td>-0.001275</td>\n",
       "      <td>-0.013006</td>\n",
       "    </tr>\n",
       "  </tbody>\n",
       "</table>\n",
       "</div>"
      ],
      "text/plain": [
       "                AAPL      MSFT      INTC      AMZN     GOOGL      NFLX\n",
       "Date                                                                  \n",
       "2018-01-03 -0.000174  0.004643 -0.034527  0.012694  0.016917  0.019601\n",
       "2018-01-04  0.004634  0.008763 -0.018509  0.004466  0.003877  0.002825\n",
       "2018-01-05  0.011321  0.012322  0.006953  0.016033  0.013173  0.020981\n",
       "2018-01-08 -0.003721  0.001020  0.000000  0.014322  0.003524  0.009762\n",
       "2018-01-09 -0.000115 -0.000680 -0.025352  0.004665 -0.001275 -0.013006"
      ]
     },
     "execution_count": 3,
     "metadata": {},
     "output_type": "execute_result"
    }
   ],
   "source": [
    "stock_data = optimization.calc_port_returns(list(current_port.keys()), \n",
    "                                            start_date='2018-01-01',\n",
    "                                            end_date='2018-12-31')\n",
    "stock_data.head()"
   ]
  },
  {
   "cell_type": "markdown",
   "metadata": {},
   "source": [
    "The optimization script minimizes the standard deviation of the daily returns. It is possible to incorporate a percentage commission for transactions as well as a minimum return requirement."
   ]
  },
  {
   "cell_type": "code",
   "execution_count": 4,
   "metadata": {},
   "outputs": [
    {
     "name": "stdout",
     "output_type": "stream",
     "text": [
      "Academic license - for non-commercial use only\n",
      "AAPL: 0.00, Return: -0.0293%, Buy: 0.00, Sell: 1000.00\n",
      "MSFT: 1740.68, Return: 0.0737%, Buy: 0.00, Sell: 259.32\n",
      "INTC: 0.00, Return: 0.0106%, Buy: 0.00, Sell: 1000.00\n",
      "AMZN: 1165.00, Return: 0.0935%, Buy: 1165.00, Sell: 0.00\n",
      "GOOGL: 0.00, Return: -0.0107%, Buy: 0.00, Sell: 3000.00\n",
      "NFLX: 1059.58, Return: 0.1144%, Buy: 0.00, Sell: 1940.42\n",
      "RISK-FREE: 5951.09, Buy: 5951.09, Sell: 0.00\n",
      "Minimum Daily Volatility = 0.7996%\n",
      "Expected Daily Return = 0.0400%\n"
     ]
    }
   ],
   "source": [
    "opt_port, _port_stats = optimization.optimize_portfolio(current_port, \n",
    "                                                        stock_data,\n",
    "                                                        cost=0.01,\n",
    "                                                        risk_free=0.00007,\n",
    "                                                        growth=0.0004,\n",
    "                                                        verbose=True)"
   ]
  },
  {
   "cell_type": "markdown",
   "metadata": {},
   "source": [
    "The new minimal risk portfolio is also stored as a dictionary."
   ]
  },
  {
   "cell_type": "markdown",
   "metadata": {},
   "source": [
    "This portfolio can also be saved as a JSON file for documentation. This makes it possible to update the optimal portfolio as new data becomes available."
   ]
  },
  {
   "cell_type": "code",
   "execution_count": 5,
   "metadata": {},
   "outputs": [],
   "source": [
    "with open(\"updated_portfolio.json\", \"w\") as opt_port_file:\n",
    "    json.dump(opt_port , opt_port_file) "
   ]
  },
  {
   "cell_type": "markdown",
   "metadata": {},
   "source": [
    "There is also the option to visualize the various portfolio options including individual stocks, the efficient frontier, and the capital allocation line.\n",
    "\n",
    "When the risk free asset is used, the resulting portfolio be on the capital allocation line. The mix between the optimal risky porfolio and risk free asset is based on risk preferences."
   ]
  },
  {
   "cell_type": "code",
   "execution_count": 6,
   "metadata": {},
   "outputs": [
    {
     "data": {
      "image/png": "[encoded data removed]",
      "text/plain": [
       "<Figure size 432x288 with 1 Axes>"
      ]
     },
     "metadata": {
      "needs_background": "light"
     },
     "output_type": "display_data"
    }
   ],
   "source": [
    "optimization.efficient_frontier(opt_port, \n",
    "                                stock_data, \n",
    "                                risk_free=0.00007)"
   ]
  },
  {
   "cell_type": "code",
   "execution_count": null,
   "metadata": {},
   "outputs": [],
   "source": []
  }
 ],
 "metadata": {
  "kernelspec": {
   "display_name": "py36",
   "language": "python",
   "name": "py36"
  },
  "language_info": {
   "codemirror_mode": {
    "name": "ipython",
    "version": 3
   },
   "file_extension": ".py",
   "mimetype": "text/x-python",
   "name": "python",
   "nbconvert_exporter": "python",
   "pygments_lexer": "ipython3",
   "version": "3.6.7"
  }
 },
 "nbformat": 4,
 "nbformat_minor": 2
}
