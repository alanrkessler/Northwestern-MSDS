{
 "cells": [
  {
   "cell_type": "code",
   "execution_count": 1,
   "metadata": {
    "collapsed": false
   },
   "outputs": [],
   "source": [
    "import pandas as pd\n",
    "import numpy as np\n",
    "from sklearn.metrics import roc_auc_score\n",
    "from sklearn.naive_bayes import BernoulliNB\n",
    "from sklearn.linear_model import LogisticRegression\n",
    "from sklearn.model_selection import KFold\n",
    "\n",
    "# Set random seed to reproduce results\n",
    "seed = 2107\n",
    "# Set number of cross-validation splits\n",
    "splits = 10\n",
    "\n",
    "\n",
    "def binary_conv(value):\n",
    "    \"\"\"Convert binary variable from string to integer\"\"\"\n",
    "    if value == \"no\":\n",
    "        return 0\n",
    "    elif value == \"yes\":\n",
    "        return 1\n",
    "    else:\n",
    "        return np.nan\n",
    "\n",
    "\n",
    "# Load the data for the variables needed and conver to integer\n",
    "train = pd.read_csv('bank.csv', sep=';',\n",
    "                    usecols=['default', 'housing', 'loan', 'response'],\n",
    "                    converters={'default': binary_conv, 'housing': binary_conv,\n",
    "                                'loan': binary_conv, 'response': binary_conv})\n",
    "\n",
    "# Convert training data to arrays for sklearn\n",
    "X = train[['default', 'housing', 'loan']].values\n",
    "y = train['response'].values\n",
    "\n",
    "# Use KFold cross-validation to split data for training\n",
    "cv = KFold(n_splits=splits, shuffle=False, random_state=seed)\n",
    "\n",
    "# Construct a list of classifiers to iterate over\n",
    "models = [LogisticRegression(), BernoulliNB()]\n",
    "\n",
    "# Initialize list to store stats from each fold and model\n",
    "stats = []\n",
    "\n",
    "# Iterate over the folds and models to save OoF AUC for each\n",
    "i = 0\n",
    "for training, test in cv.split(X, y):\n",
    "    fold = [i]\n",
    "    for alg in models:\n",
    "        scores = alg.fit(X[training], y[training]).predict_proba(X[test])\n",
    "        fold.append(roc_auc_score(y[test], scores[:, 1]))\n",
    "    stats.append(fold)\n",
    "    i += 1\n",
    "\n",
    "# Create a dataframe of the OoF AUCs for each model\n",
    "labels = ['Fold', 'Logistic Regression AUC', 'Naive Bayes AUC']\n",
    "results = pd.DataFrame(stats, columns=labels)\n",
    "\n",
    "# Add mean and standard deviation to summary\n",
    "m = results.mean().tolist()\n",
    "m[0] = \"Mean\"\n",
    "s = results.std().tolist()\n",
    "s[0] = \"Std Dev\"\n",
    "\n",
    "results_summary = results.append([pd.Series(m, index=labels),\n",
    "                                  pd.Series(s, index=labels)],\n",
    "                                 ignore_index=True).set_index('Fold')\n",
    "\n",
    "# Save CV results to a CSV\n",
    "results_summary.to_csv(\"results_summary.csv\")\n",
    "\n",
    "# Fit the logistic regression to the entire data and score\n",
    "full_lr_model = LogisticRegression().fit(X, y)\n",
    "scores = full_lr_model.predict_proba(X)\n",
    "train['lr_score'] = [i[1] for i in scores]\n",
    "\n",
    "# Fit the Naive Bayes classifier to the entrie data and score\n",
    "full_nb_model = BernoulliNB().fit(X, y)\n",
    "scores = full_nb_model.predict_proba(X)\n",
    "train['nb_score'] = [i[1] for i in scores]\n",
    "\n",
    "# Calculate the correlation between model scores\n",
    "model_corr = train[['lr_score', 'nb_score']].corr()\n",
    "\n",
    "# Save correlation results to a CSV\n",
    "model_corr.to_csv(\"results_corr.csv\")\n",
    "\n",
    "# Calculate the coefficients from the logistic regression\n",
    "labels = train.columns[0:3].tolist()\n",
    "lr_coef = pd.DataFrame([full_lr_model.coef_.tolist()[0]], columns=labels)\n",
    "\n",
    "# Save coefficients to a CSV\n",
    "lr_coef.to_csv(\"results_coef.csv\")\n"
   ]
  },
  {
   "cell_type": "code",
   "execution_count": 2,
   "metadata": {
    "collapsed": false
   },
   "outputs": [
    {
     "data": {
      "text/html": [
       "<div>\n",
       "<table border=\"1\" class=\"dataframe\">\n",
       "  <thead>\n",
       "    <tr style=\"text-align: right;\">\n",
       "      <th></th>\n",
       "      <th>Logistic Regression AUC</th>\n",
       "      <th>Naive Bayes AUC</th>\n",
       "    </tr>\n",
       "    <tr>\n",
       "      <th>Fold</th>\n",
       "      <th></th>\n",
       "      <th></th>\n",
       "    </tr>\n",
       "  </thead>\n",
       "  <tbody>\n",
       "    <tr>\n",
       "      <th>0</th>\n",
       "      <td>0.587852</td>\n",
       "      <td>0.587852</td>\n",
       "    </tr>\n",
       "    <tr>\n",
       "      <th>1</th>\n",
       "      <td>0.633728</td>\n",
       "      <td>0.633728</td>\n",
       "    </tr>\n",
       "    <tr>\n",
       "      <th>2</th>\n",
       "      <td>0.657535</td>\n",
       "      <td>0.657535</td>\n",
       "    </tr>\n",
       "    <tr>\n",
       "      <th>3</th>\n",
       "      <td>0.635565</td>\n",
       "      <td>0.637388</td>\n",
       "    </tr>\n",
       "    <tr>\n",
       "      <th>4</th>\n",
       "      <td>0.574399</td>\n",
       "      <td>0.574399</td>\n",
       "    </tr>\n",
       "    <tr>\n",
       "      <th>5</th>\n",
       "      <td>0.584238</td>\n",
       "      <td>0.574684</td>\n",
       "    </tr>\n",
       "    <tr>\n",
       "      <th>6</th>\n",
       "      <td>0.562512</td>\n",
       "      <td>0.562512</td>\n",
       "    </tr>\n",
       "    <tr>\n",
       "      <th>7</th>\n",
       "      <td>0.731144</td>\n",
       "      <td>0.731144</td>\n",
       "    </tr>\n",
       "    <tr>\n",
       "      <th>8</th>\n",
       "      <td>0.573533</td>\n",
       "      <td>0.573533</td>\n",
       "    </tr>\n",
       "    <tr>\n",
       "      <th>9</th>\n",
       "      <td>0.576820</td>\n",
       "      <td>0.577827</td>\n",
       "    </tr>\n",
       "    <tr>\n",
       "      <th>Mean</th>\n",
       "      <td>0.611733</td>\n",
       "      <td>0.611060</td>\n",
       "    </tr>\n",
       "    <tr>\n",
       "      <th>Std Dev</th>\n",
       "      <td>0.052946</td>\n",
       "      <td>0.053606</td>\n",
       "    </tr>\n",
       "  </tbody>\n",
       "</table>\n",
       "</div>"
      ],
      "text/plain": [
       "         Logistic Regression AUC  Naive Bayes AUC\n",
       "Fold                                             \n",
       "0                       0.587852         0.587852\n",
       "1                       0.633728         0.633728\n",
       "2                       0.657535         0.657535\n",
       "3                       0.635565         0.637388\n",
       "4                       0.574399         0.574399\n",
       "5                       0.584238         0.574684\n",
       "6                       0.562512         0.562512\n",
       "7                       0.731144         0.731144\n",
       "8                       0.573533         0.573533\n",
       "9                       0.576820         0.577827\n",
       "Mean                    0.611733         0.611060\n",
       "Std Dev                 0.052946         0.053606"
      ]
     },
     "execution_count": 2,
     "metadata": {},
     "output_type": "execute_result"
    }
   ],
   "source": [
    "results_summary"
   ]
  },
  {
   "cell_type": "code",
   "execution_count": 3,
   "metadata": {
    "collapsed": false
   },
   "outputs": [
    {
     "data": {
      "text/html": [
       "<div>\n",
       "<table border=\"1\" class=\"dataframe\">\n",
       "  <thead>\n",
       "    <tr style=\"text-align: right;\">\n",
       "      <th></th>\n",
       "      <th>lr_score</th>\n",
       "      <th>nb_score</th>\n",
       "    </tr>\n",
       "  </thead>\n",
       "  <tbody>\n",
       "    <tr>\n",
       "      <th>lr_score</th>\n",
       "      <td>1.00000</td>\n",
       "      <td>0.99992</td>\n",
       "    </tr>\n",
       "    <tr>\n",
       "      <th>nb_score</th>\n",
       "      <td>0.99992</td>\n",
       "      <td>1.00000</td>\n",
       "    </tr>\n",
       "  </tbody>\n",
       "</table>\n",
       "</div>"
      ],
      "text/plain": [
       "          lr_score  nb_score\n",
       "lr_score   1.00000   0.99992\n",
       "nb_score   0.99992   1.00000"
      ]
     },
     "execution_count": 3,
     "metadata": {},
     "output_type": "execute_result"
    }
   ],
   "source": [
    "model_corr"
   ]
  },
  {
   "cell_type": "code",
   "execution_count": 4,
   "metadata": {
    "collapsed": false
   },
   "outputs": [
    {
     "data": {
      "text/html": [
       "<div>\n",
       "<table border=\"1\" class=\"dataframe\">\n",
       "  <thead>\n",
       "    <tr style=\"text-align: right;\">\n",
       "      <th></th>\n",
       "      <th>default</th>\n",
       "      <th>housing</th>\n",
       "      <th>loan</th>\n",
       "    </tr>\n",
       "  </thead>\n",
       "  <tbody>\n",
       "    <tr>\n",
       "      <th>0</th>\n",
       "      <td>0.157708</td>\n",
       "      <td>-0.651981</td>\n",
       "      <td>-0.743002</td>\n",
       "    </tr>\n",
       "  </tbody>\n",
       "</table>\n",
       "</div>"
      ],
      "text/plain": [
       "    default   housing      loan\n",
       "0  0.157708 -0.651981 -0.743002"
      ]
     },
     "execution_count": 4,
     "metadata": {},
     "output_type": "execute_result"
    }
   ],
   "source": [
    "lr_coef"
   ]
  },
  {
   "cell_type": "code",
   "execution_count": null,
   "metadata": {
    "collapsed": true
   },
   "outputs": [],
   "source": []
  }
 ],
 "metadata": {
  "anaconda-cloud": {},
  "kernelspec": {
   "display_name": "Python [conda env:drei]",
   "language": "python",
   "name": "conda-env-drei-py"
  },
  "language_info": {
   "codemirror_mode": {
    "name": "ipython",
    "version": 3
   },
   "file_extension": ".py",
   "mimetype": "text/x-python",
   "name": "python",
   "nbconvert_exporter": "python",
   "pygments_lexer": "ipython3",
   "version": "3.5.2"
  }
 },
 "nbformat": 4,
 "nbformat_minor": 2
}
